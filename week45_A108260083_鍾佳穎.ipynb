{
  "nbformat": 4,
  "nbformat_minor": 0,
  "metadata": {
    "colab": {
      "name": "week45-A108260083-鍾佳穎.ipynb",
      "provenance": [],
      "collapsed_sections": [],
      "include_colab_link": true
    },
    "kernelspec": {
      "name": "python3",
      "display_name": "Python 3"
    }
  },
  "cells": [
    {
      "cell_type": "markdown",
      "metadata": {
        "id": "view-in-github",
        "colab_type": "text"
      },
      "source": [
        "<a href=\"https://colab.research.google.com/github/zpxcov/Computational-Thinking-and-Programming-Design/blob/master/week45_A108260083_%E9%8D%BE%E4%BD%B3%E7%A9%8E.ipynb\" target=\"_parent\"><img src=\"https://colab.research.google.com/assets/colab-badge.svg\" alt=\"Open In Colab\"/></a>"
      ]
    },
    {
      "cell_type": "code",
      "metadata": {
        "id": "-1Y1sVhNK78f",
        "colab_type": "code",
        "outputId": "e9d609f9-e776-4ff4-d9c9-f1388aa6f2c6",
        "colab": {
          "base_uri": "https://localhost:8080/",
          "height": 34
        }
      },
      "source": [
        "#光有名子不行\n",
        "\n",
        "print(a)"
      ],
      "execution_count": 0,
      "outputs": [
        {
          "output_type": "stream",
          "text": [
            "1\n"
          ],
          "name": "stdout"
        }
      ]
    },
    {
      "cell_type": "code",
      "metadata": {
        "id": "yMJcU8i2QK2K",
        "colab_type": "code",
        "outputId": "b755c8ca-366e-4611-f0f1-517bba095e2d",
        "colab": {
          "base_uri": "https://localhost:8080/",
          "height": 34
        }
      },
      "source": [
        "#要有內容\n",
        "\n",
        "a=1\n",
        "a"
      ],
      "execution_count": 0,
      "outputs": [
        {
          "output_type": "execute_result",
          "data": {
            "text/plain": [
              "1"
            ]
          },
          "metadata": {
            "tags": []
          },
          "execution_count": 17
        }
      ]
    },
    {
      "cell_type": "code",
      "metadata": {
        "id": "kdwZOVR2QZC-",
        "colab_type": "code",
        "outputId": "4df83bec-1d7f-4dad-c1cb-99b7a36e6e73",
        "colab": {
          "base_uri": "https://localhost:8080/",
          "height": 34
        }
      },
      "source": [
        "a=\"Python\"\n",
        "a"
      ],
      "execution_count": 0,
      "outputs": [
        {
          "output_type": "execute_result",
          "data": {
            "text/plain": [
              "'Python'"
            ]
          },
          "metadata": {
            "tags": []
          },
          "execution_count": 3
        }
      ]
    },
    {
      "cell_type": "code",
      "metadata": {
        "id": "swDFy7bnQmgY",
        "colab_type": "code",
        "colab": {}
      },
      "source": [
        "##資料內容的基本型別有三:數字(整數、浮點數)、布林與文字(字串)。\n",
        "\n",
        "a=123\n",
        "b=123.456\n",
        "c=\"Python\"\n",
        "d=False"
      ],
      "execution_count": 0,
      "outputs": []
    },
    {
      "cell_type": "code",
      "metadata": {
        "id": "jSF0MHFuSOtO",
        "colab_type": "code",
        "outputId": "7c7f79ac-c719-4be3-ccc6-5745588c06d5",
        "colab": {
          "base_uri": "https://localhost:8080/",
          "height": 51
        }
      },
      "source": [
        "#資料有位置:id()\n",
        "  \n",
        "  a=1\n",
        "  print(a,id(a))\n",
        "  b=\"Python\"\n",
        "  print(b,id(b))"
      ],
      "execution_count": 0,
      "outputs": [
        {
          "output_type": "stream",
          "text": [
            "1 10968800\n",
            "Python 139739385809976\n"
          ],
          "name": "stdout"
        }
      ]
    },
    {
      "cell_type": "code",
      "metadata": {
        "id": "uZwV0Y5RTVvB",
        "colab_type": "code",
        "outputId": "dd06e2ee-f660-4477-d789-15e97f01e293",
        "colab": {
          "base_uri": "https://localhost:8080/",
          "height": 34
        }
      },
      "source": [
        "#不同變數，不同值、不同址\n",
        "\n",
        "x=1\n",
        "y=2\n",
        "print(id(x),id(y))"
      ],
      "execution_count": 0,
      "outputs": [
        {
          "output_type": "stream",
          "text": [
            "10968800 10968832\n"
          ],
          "name": "stdout"
        }
      ]
    },
    {
      "cell_type": "code",
      "metadata": {
        "id": "8jFbPhN7ULT0",
        "colab_type": "code",
        "outputId": "9acdeaad-e704-42ce-deb1-58deaa5b9fac",
        "colab": {
          "base_uri": "https://localhost:8080/",
          "height": 34
        }
      },
      "source": [
        "#不同變數，但相同位址；同值、同址、省空間\n",
        "z=1\n",
        "print(id(x),id(z))"
      ],
      "execution_count": 0,
      "outputs": [
        {
          "output_type": "stream",
          "text": [
            "10968800 10968800\n"
          ],
          "name": "stdout"
        }
      ]
    },
    {
      "cell_type": "code",
      "metadata": {
        "id": "HBiVkfuwUiip",
        "colab_type": "code",
        "outputId": "6de923a9-24af-4746-fa2b-bfaafa4b00a8",
        "colab": {
          "base_uri": "https://localhost:8080/",
          "height": 34
        }
      },
      "source": [
        "#變數大小可用sys,getsizeof()測量\n",
        "\n",
        "import sys#引進模組使用模組中的指令\n",
        "\n",
        "x=18\n",
        "sys.getsizeof(x)"
      ],
      "execution_count": 0,
      "outputs": [
        {
          "output_type": "execute_result",
          "data": {
            "text/plain": [
              "28"
            ]
          },
          "metadata": {
            "tags": []
          },
          "execution_count": 23
        }
      ]
    },
    {
      "cell_type": "code",
      "metadata": {
        "id": "Wc2xFBs2XtlG",
        "colab_type": "code",
        "outputId": "0675ca11-79f8-444a-8cd3-6bfaae377153",
        "colab": {
          "base_uri": "https://localhost:8080/",
          "height": 204
        }
      },
      "source": [
        "#@title Default title text\n",
        "#布林:根據輸入的資料決定結果是True或False\n",
        "\n",
        "print(False)\n",
        "print(True)\n",
        "print(False+3)\n",
        "print(True+3)\n",
        "print(False==0)\n",
        "print(True==1)\n",
        "\n",
        "#使用type()函式判斷資料型別\n",
        "print(False,type(False))\n",
        "print(True+1,type(True+1))\n",
        "\n",
        "#使用bool()函式建立資料\n",
        "print(bool(1))\n",
        "print(bool(0))\n",
        "print(bool(()))"
      ],
      "execution_count": 0,
      "outputs": [
        {
          "output_type": "stream",
          "text": [
            "False\n",
            "True\n",
            "3\n",
            "4\n",
            "True\n",
            "True\n",
            "False <class 'bool'>\n",
            "2 <class 'int'>\n",
            "True\n",
            "False\n",
            "False\n"
          ],
          "name": "stdout"
        }
      ]
    },
    {
      "cell_type": "code",
      "metadata": {
        "id": "5wrqOMDkDUK1",
        "colab_type": "code",
        "outputId": "ccf92769-6ba3-4311-ee2c-9d06aceb7cea",
        "colab": {
          "base_uri": "https://localhost:8080/",
          "height": 102
        }
      },
      "source": [
        "#數字\n",
        "\n",
        "a= 100 \n",
        "b= 100.001 \n",
        "\n",
        "#使⽤ type()函式判斷資料型別 \n",
        "print(type(100)) \n",
        "print(type(100.001)) \n",
        "\n",
        "#使⽤ int()與float()函式建立資料 \n",
        "print(int(100)) \n",
        "print(float(100.001)) \n",
        "\n",
        "#請注意：浮點數在電腦是使⽤⼆進位表⽰小數，所以表達的是近似值，和我們習慣⼗進位有時不完全相等。 \n",
        "#電腦因為記憶體的原因，無法表⽰無窮位數的⼩數點，例如\"pi\"，只是取有限位數的近似值 。\n",
        "\n",
        "print(0.1+0.1+0.1)\n"
      ],
      "execution_count": 0,
      "outputs": [
        {
          "output_type": "stream",
          "text": [
            "<class 'int'>\n",
            "<class 'float'>\n",
            "100\n",
            "100.001\n",
            "0.30000000000000004\n"
          ],
          "name": "stdout"
        }
      ]
    },
    {
      "cell_type": "code",
      "metadata": {
        "id": "MaA7ymWvJalB",
        "colab_type": "code",
        "outputId": "8a4d865d-b966-4f78-be4e-4ff374c0c3f1",
        "colab": {
          "base_uri": "https://localhost:8080/",
          "height": 153
        }
      },
      "source": [
        "s1=\"春眠不覺曉，處處聞啼⿃。\" \n",
        "print(s1) \n",
        "\n",
        "s2=\"夜來風雨聲，花落知多少。\" \n",
        "print(s2)\n",
        "\n",
        "s3='作者\"孟浩然\" 詩名\"春曉\"' \n",
        "print(s3) \n",
        "\n",
        "s4=\"作者'孟浩然' 詩名'春曉'\" \n",
        "print(s4)\n",
        "\n",
        "s5='''春眠不覺曉，處處聞啼⿃。\n",
        "    夜來風雨聲，花落知多少。\n",
        "    作者\"孟浩然\" 詩名\"春曉\" \n",
        "'''\n",
        "print(s5)"
      ],
      "execution_count": 0,
      "outputs": [
        {
          "output_type": "stream",
          "text": [
            "春眠不覺曉，處處聞啼⿃。\n",
            "夜來風雨聲，花落知多少。\n",
            "作者\"孟浩然\" 詩名\"春曉\"\n",
            "作者'孟浩然' 詩名'春曉'\n",
            "春眠不覺曉，處處聞啼⿃。\n",
            "    夜來風雨聲，花落知多少。\n",
            "    作者\"孟浩然\" 詩名\"春曉\" \n",
            "\n"
          ],
          "name": "stdout"
        }
      ]
    },
    {
      "cell_type": "code",
      "metadata": {
        "id": "gmdMzcyHKc8R",
        "colab_type": "code",
        "outputId": "987d9f13-26ad-43ac-db74-87db85b1c2cf",
        "colab": {
          "base_uri": "https://localhost:8080/",
          "height": 68
        }
      },
      "source": [
        "#螢幕列印：print函式\n",
        "#有format格式化輸出與％格式化輸出兩種。\n",
        "\n",
        "a=123 \n",
        "b=123.456 \n",
        "\n",
        "print(a) \n",
        "\n",
        "print(\"b=\", b) \n",
        "\n",
        "print(a,b,end='.') #結束時以.表⽰"
      ],
      "execution_count": 0,
      "outputs": [
        {
          "output_type": "stream",
          "text": [
            "123\n",
            "b= 123.456\n",
            "123 123.456."
          ],
          "name": "stdout"
        }
      ]
    },
    {
      "cell_type": "code",
      "metadata": {
        "id": "KDPOSJsXLCo4",
        "colab_type": "code",
        "outputId": "a1add968-8ff4-4321-a126-4dd4dc012284",
        "colab": {
          "base_uri": "https://localhost:8080/",
          "height": 85
        }
      },
      "source": [
        "print(\"Bigflower Francis\") \n",
        "\n",
        "print(\"Bigflower \\n Francis\")#跳⾏\n",
        "\n",
        "print(\"Bigflower \\t Francis\")#8個空格tab "
      ],
      "execution_count": 0,
      "outputs": [
        {
          "output_type": "stream",
          "text": [
            "Bigflower Francis\n",
            "Bigflower \n",
            " Francis\n",
            "Bigflower \t Francis\n"
          ],
          "name": "stdout"
        }
      ]
    },
    {
      "cell_type": "code",
      "metadata": {
        "id": "35AmjRF-LQlY",
        "colab_type": "code",
        "outputId": "fce52716-f1db-45c4-dca6-e9826d7524c5",
        "colab": {
          "base_uri": "https://localhost:8080/",
          "height": 51
        }
      },
      "source": [
        "#螢幕輸入：input函數\n",
        " \n",
        "s=input()\n",
        "s\n"
      ],
      "execution_count": 0,
      "outputs": [
        {
          "output_type": "stream",
          "text": [
            "hi\n"
          ],
          "name": "stdout"
        },
        {
          "output_type": "execute_result",
          "data": {
            "text/plain": [
              "'hi'"
            ]
          },
          "metadata": {
            "tags": []
          },
          "execution_count": 12
        }
      ]
    },
    {
      "cell_type": "code",
      "metadata": {
        "id": "89qtOEnjPlQJ",
        "colab_type": "code",
        "outputId": "60970494-e528-47bd-c1dd-15e4c847ffac",
        "colab": {
          "base_uri": "https://localhost:8080/",
          "height": 51
        }
      },
      "source": [
        "s=input(\"Enter Your Name:\") \n",
        "s\n"
      ],
      "execution_count": 0,
      "outputs": [
        {
          "output_type": "stream",
          "text": [
            "Enter Your Name:Francis\n"
          ],
          "name": "stdout"
        },
        {
          "output_type": "execute_result",
          "data": {
            "text/plain": [
              "'Francis'"
            ]
          },
          "metadata": {
            "tags": []
          },
          "execution_count": 10
        }
      ]
    },
    {
      "cell_type": "markdown",
      "metadata": {
        "id": "eXZa0COwJPIJ",
        "colab_type": "text"
      },
      "source": [
        ""
      ]
    },
    {
      "cell_type": "code",
      "metadata": {
        "id": "uZSCxElURdO5",
        "colab_type": "code",
        "outputId": "a2a3d35d-daae-40e7-f513-6ce64ee885fd",
        "colab": {
          "base_uri": "https://localhost:8080/",
          "height": 51
        }
      },
      "source": [
        "s=input(\"Enter Your Name:\") \n",
        "print(\"Hi,\",s)"
      ],
      "execution_count": 0,
      "outputs": [
        {
          "output_type": "stream",
          "text": [
            "Enter Your Name:Francis\n",
            "Hi, Francis\n"
          ],
          "name": "stdout"
        }
      ]
    },
    {
      "cell_type": "code",
      "metadata": {
        "id": "0wM6hTuaRymF",
        "colab_type": "code",
        "outputId": "3ad53742-b394-4429-e15c-1f9c50df007f",
        "colab": {
          "base_uri": "https://localhost:8080/",
          "height": 212
        }
      },
      "source": [
        "##請注意input函數所輸入的資料是字串型態，不同型態的資料不能做運算。\n",
        " \n",
        "s=input(\"Enter Your Number:\")\n",
        "print(s+100)"
      ],
      "execution_count": 15,
      "outputs": [
        {
          "output_type": "stream",
          "text": [
            "Enter Your Number:123\n"
          ],
          "name": "stdout"
        },
        {
          "output_type": "error",
          "ename": "TypeError",
          "evalue": "ignored",
          "traceback": [
            "\u001b[0;31m---------------------------------------------------------------------------\u001b[0m",
            "\u001b[0;31mTypeError\u001b[0m                                 Traceback (most recent call last)",
            "\u001b[0;32m<ipython-input-15-d0260a806246>\u001b[0m in \u001b[0;36m<module>\u001b[0;34m()\u001b[0m\n\u001b[1;32m      1\u001b[0m \u001b[0;34m\u001b[0m\u001b[0m\n\u001b[1;32m      2\u001b[0m \u001b[0ms\u001b[0m\u001b[0;34m=\u001b[0m\u001b[0minput\u001b[0m\u001b[0;34m(\u001b[0m\u001b[0;34m\"Enter Your Number:\"\u001b[0m\u001b[0;34m)\u001b[0m\u001b[0;34m\u001b[0m\u001b[0;34m\u001b[0m\u001b[0m\n\u001b[0;32m----> 3\u001b[0;31m \u001b[0mprint\u001b[0m\u001b[0;34m(\u001b[0m\u001b[0ms\u001b[0m\u001b[0;34m+\u001b[0m\u001b[0;36m100\u001b[0m\u001b[0;34m)\u001b[0m\u001b[0;34m\u001b[0m\u001b[0;34m\u001b[0m\u001b[0m\n\u001b[0m",
            "\u001b[0;31mTypeError\u001b[0m: must be str, not int"
          ]
        }
      ]
    },
    {
      "cell_type": "code",
      "metadata": {
        "id": "zfbwJ3_JSWtm",
        "colab_type": "code",
        "outputId": "a97940d1-30a4-4dab-a9f2-324987b455fb",
        "colab": {
          "base_uri": "https://localhost:8080/",
          "height": 153
        }
      },
      "source": [
        "#⽂字轉數字的整數，請⽤int()函數 \n",
        "s=int(input(\"Enter Your Number:\")) \n",
        "print(100 + s) \n",
        "\n",
        "#⽂字轉數字的福點數，請⽤float()函數\n",
        "s=float(input(\"Enter Your Number:\")) \n",
        "print(100 + s) \n",
        "\n",
        "#⽂字轉數字，均可⽤eval()函數\n",
        "s=eval(input(\"Enter Your Number:\")) \n",
        "print(100 + s)\n",
        "\n",
        "s=eval(input(\"Enter Your Number:\")) \n",
        "print(100 + s)"
      ],
      "execution_count": 0,
      "outputs": [
        {
          "output_type": "stream",
          "text": [
            "Enter Your Number:123\n",
            "223\n",
            "Enter Your Number:123\n",
            "223.0\n",
            "Enter Your Number:123\n",
            "223\n",
            "Enter Your Number:123\n",
            "223\n"
          ],
          "name": "stdout"
        }
      ]
    },
    {
      "cell_type": "code",
      "metadata": {
        "id": "aZ-VNvtuTApm",
        "colab_type": "code",
        "colab": {}
      },
      "source": [
        "#指定運算⼦ \n",
        "#⽤等號(=)表⽰，意思是等號右邊先運算，再將運算結果指定給左邊的變數。\n",
        " \n",
        "a=1+2"
      ],
      "execution_count": 0,
      "outputs": []
    },
    {
      "cell_type": "code",
      "metadata": {
        "id": "waNYc1qcTFXN",
        "colab_type": "code",
        "outputId": "a89b5af1-98f6-4d02-af7c-3384634bdd2e",
        "colab": {
          "base_uri": "https://localhost:8080/",
          "height": 119
        }
      },
      "source": [
        "#布林（⼀)：比較運算⼦\n",
        "##比較運算⼦⽤於比較兩數的⼤於、⼩於和等於關係。\n",
        "\n",
        "print (5<2) \n",
        "print (5<=2) \n",
        "print (5>2) \n",
        "print(5>=2) \n",
        "print(5!=2) \n",
        "print(5==2) #請注意不要混淆＝和==\n",
        "\n",
        "\n",
        " "
      ],
      "execution_count": 0,
      "outputs": [
        {
          "output_type": "stream",
          "text": [
            "False\n",
            "False\n",
            "True\n",
            "True\n",
            "True\n",
            "False\n"
          ],
          "name": "stdout"
        }
      ]
    },
    {
      "cell_type": "code",
      "metadata": {
        "id": "h02275JaT5be",
        "colab_type": "code",
        "outputId": "959bf530-e96e-4e38-a774-26a5a4dae4a3",
        "colab": {
          "base_uri": "https://localhost:8080/",
          "height": 68
        }
      },
      "source": [
        "#布林（ ⼆ ）：邏輯運算⼦ \n",
        "##邏輯運算⼦有三種運算⼦:且(and)、或(or)、非(not)。\n",
        "\n",
        "X=70 \n",
        "print((X>60) and (X<80))\n",
        "print((X>60) or (X<80)) \n",
        "print(not(X>60))\n",
        "\n",
        " "
      ],
      "execution_count": 0,
      "outputs": [
        {
          "output_type": "stream",
          "text": [
            "True\n",
            "True\n",
            "False\n"
          ],
          "name": "stdout"
        }
      ]
    },
    {
      "cell_type": "code",
      "metadata": {
        "id": "2LdbWQhmUNQP",
        "colab_type": "code",
        "outputId": "4cd8eb9a-f8de-4d35-cd34-f022aaccf684",
        "colab": {
          "base_uri": "https://localhost:8080/",
          "height": 102
        }
      },
      "source": [
        "#布林（三）：成員與⾝份算⼦ \n",
        "##[x in y]判斷x是否為y其中⼀個元素 \n",
        "##[x is y]判斷x與y的id是否相同(在此不是相等==的判斷）\n",
        "\n",
        "x=1 \n",
        "y=[1,2,3] \n",
        "\n",
        "print(x in y) \n",
        "print( x not in y) \n",
        "\n",
        "x=[1,2,3] \n",
        "y=[1,2,3] \n",
        "\n",
        "print(id(x), id(y)) #兩個變數id不同\n",
        "print(x is y)  \n",
        "print(x is not y)"
      ],
      "execution_count": 0,
      "outputs": [
        {
          "output_type": "stream",
          "text": [
            "True\n",
            "False\n",
            "140543959651144 140543959650632\n",
            "False\n",
            "True\n"
          ],
          "name": "stdout"
        }
      ]
    },
    {
      "cell_type": "code",
      "metadata": {
        "id": "9tFyxH1_U9gF",
        "colab_type": "code",
        "outputId": "6dee85fe-d5ee-43de-d510-23e1b42e5139",
        "colab": {
          "base_uri": "https://localhost:8080/",
          "height": 136
        }
      },
      "source": [
        "#數字（⼀)算術運算⼦ \n",
        "##算術運算⼦為數學的運算⼦\n",
        "\n",
        "print(5 + 2) # 加 \n",
        "print(5 - 2) # 減 \n",
        "print(5 * 2) # 乘 \n",
        "print(5 / 2) # 除 \n",
        "print(5 // 2) # 商 \n",
        "print(5 % 2)  # 餘 數 \n",
        "print(5 ** 2) # 次 ⽅\n",
        "\n",
        " "
      ],
      "execution_count": 0,
      "outputs": [
        {
          "output_type": "stream",
          "text": [
            "7\n",
            "3\n",
            "10\n",
            "2.5\n",
            "2\n",
            "1\n",
            "25\n"
          ],
          "name": "stdout"
        }
      ]
    },
    {
      "cell_type": "code",
      "metadata": {
        "id": "cAeLoEBwVRlF",
        "colab_type": "code",
        "outputId": "c824bbfe-ffb2-4481-9b97-7d4c9a3847ab",
        "colab": {
          "base_uri": "https://localhost:8080/",
          "height": 153
        }
      },
      "source": [
        "#數字（⼆）算術指定運算字，為指定運算⼦和算術運算⼦的綜合\n",
        "\n",
        "a=5 \n",
        "a=a+2 \n",
        "print(a) \n",
        "\n",
        "a+=2  #a=a+2 \n",
        "print(a)\n",
        "\n",
        "a-=2  #a=a-2 \n",
        "print(a) \n",
        "\n",
        "a*=2 #a=a*2 \n",
        "print(a) \n",
        "\n",
        "a/=2 #a=a/2 \n",
        "print(a) \n",
        "\n",
        "a//=2 #a=a//2 \n",
        "print(a)\n",
        "\n",
        "a%=2 #a=a%2 \n",
        "print(a)\n",
        "\n",
        "a**=2 #a=a**2 \n",
        "print(a)\n"
      ],
      "execution_count": 0,
      "outputs": [
        {
          "output_type": "stream",
          "text": [
            "7\n",
            "9\n",
            "7\n",
            "14\n",
            "7.0\n",
            "3.0\n",
            "1.0\n",
            "1.0\n"
          ],
          "name": "stdout"
        }
      ]
    },
    {
      "cell_type": "code",
      "metadata": {
        "id": "pNPJjcqCWEyF",
        "colab_type": "code",
        "outputId": "0f801d66-f1ce-45f1-fe7e-c87bea09cbc0",
        "colab": {
          "base_uri": "https://localhost:8080/",
          "height": 101
        }
      },
      "source": [
        "s1=\"123\" \n",
        "s2=\"456\" \n",
        "s3=s1+s2 \n",
        "print(s3) \n",
        "\n",
        "s4=s1*2 \n",
        "print(s4)\n",
        "\n",
        "\n",
        "s5='春眠不覺曉，處處聞啼⿃。\\n\\\n",
        "夜來風雨聲，花落知多少。\\n\\\n",
        "\\t作者\"孟浩然\"詩名\"春曉\"'\n",
        "print(s5)\n"
      ],
      "execution_count": 2,
      "outputs": [
        {
          "output_type": "stream",
          "text": [
            "123456\n",
            "123123\n",
            "春眠不覺曉，處處聞啼⿃。\n",
            "夜來風雨聲，花落知多少。\n",
            "\t作者\"孟浩然\"詩名\"春曉\"\n"
          ],
          "name": "stdout"
        }
      ]
    },
    {
      "cell_type": "code",
      "metadata": {
        "id": "4ZRetXY413Iv",
        "colab_type": "code",
        "colab": {
          "base_uri": "https://localhost:8080/",
          "height": 353
        },
        "outputId": "721e6388-1bf8-45d6-b7c9-be0ac2281cd8"
      },
      "source": [
        "#位置索引 \n",
        "s='123456789' \n",
        "print(s[0]) #位置索引從0開始，不是1開始 \n",
        "print(s[1])  \n",
        "print(s[-1]) #從右到左倒過來的第⼀個位置，加負號 \n",
        "print(s[-2]) \n",
        "\n",
        "#切片\n",
        "\n",
        "s='0123456789' \n",
        "#索引 \n",
        "print('s=', s) \n",
        "print('s[0]=', s[0]) \n",
        "print('s[1]=', s[1]) \n",
        "print('s[-1]=', s[-1]) \n",
        "print('s[-2]=', s[-2]) \n",
        "\n",
        "#切片 \n",
        "print('s=', s, 's[:]=', s[:]) #從頭到尾 \n",
        "print('s=', s, 's[5:]=', s[5:]) #到尾 \n",
        "print('s=', s, 's[-2:]=', s[-2:]) \n",
        "print('s=', s, 's[:5]=', s[:5]) #從頭 \n",
        "print('s=', s, 's[:-2]=', s[:-2]) \n",
        "print('s=', s, 's[7:9]=', s[7:9])#範圍 \n",
        "print('s=', s, 's[-4:-1]=', s[-4:-1]) \n",
        "print('s=', s, 's[5:-2]=', s[5:-2]) \n",
        "print('s=', s, 's[2:10:2]=', s[2:10:2])  \n",
        "print('s=', s, 's[::-1]=', s[::-1]) \n",
        "print('s=', s, 's[-1::-1]=', s[-1::-1])\n"
      ],
      "execution_count": 1,
      "outputs": [
        {
          "output_type": "stream",
          "text": [
            "1\n",
            "2\n",
            "9\n",
            "8\n",
            "s= 0123456789\n",
            "s[0]= 0\n",
            "s[1]= 1\n",
            "s[-1]= 9\n",
            "s[-2]= 8\n",
            "s= 0123456789 s[:]= 0123456789\n",
            "s= 0123456789 s[5:]= 56789\n",
            "s= 0123456789 s[-2:]= 89\n",
            "s= 0123456789 s[:5]= 01234\n",
            "s= 0123456789 s[:-2]= 01234567\n",
            "s= 0123456789 s[7:9]= 78\n",
            "s= 0123456789 s[-4:-1]= 678\n",
            "s= 0123456789 s[5:-2]= 567\n",
            "s= 0123456789 s[2:10:2]= 2468\n",
            "s= 0123456789 s[::-1]= 9876543210\n",
            "s= 0123456789 s[-1::-1]= 9876543210\n"
          ],
          "name": "stdout"
        }
      ]
    },
    {
      "cell_type": "code",
      "metadata": {
        "id": "x-mhOCPF3xSK",
        "colab_type": "code",
        "colab": {
          "base_uri": "https://localhost:8080/",
          "height": 134
        },
        "outputId": "c217deca-70d7-4bc5-a341-43c86f81061d"
      },
      "source": [
        "#數字：內建函數\n",
        "\n",
        "a = -2 \n",
        "print(abs(a)) #絕對值 \n",
        "print(abs(-10)) \n",
        "\n",
        "print(max(1,2,3,4,5)) #極⼤值 \n",
        "print(min(1,2,3,4,5)) #極⼩值\n",
        " \n",
        "print(pow(2,3)) ##次⽅pow(a,b)為a的b次⽅\n",
        "\n",
        "print(round(5.8)) #四捨五入 \n",
        "print(round(3.14159,2))  #取⼩數點兩位四捨五入"
      ],
      "execution_count": 6,
      "outputs": [
        {
          "output_type": "stream",
          "text": [
            "2\n",
            "10\n",
            "5\n",
            "1\n",
            "8\n",
            "6\n",
            "3.14\n"
          ],
          "name": "stdout"
        }
      ]
    },
    {
      "cell_type": "code",
      "metadata": {
        "id": "J6_6xIQV4Wq-",
        "colab_type": "code",
        "colab": {
          "base_uri": "https://localhost:8080/",
          "height": 67
        },
        "outputId": "9b887829-842f-40d8-92fe-2d0cefeb40cd"
      },
      "source": [
        "s='春眠不覺曉，處處聞啼⿃，夜來風雨聲，花落知多少。' \n",
        "print(len(s))\n",
        "\n",
        "s1='春眠不覺曉，處處聞啼⿃，夜來風雨聲，花落知多少。' \n",
        "list1=s1.split('，') #以逗號，分割字串 \n",
        "print(list1)\n",
        "\n",
        "list1 = ['春眠不覺曉','處處聞啼⿃','夜來風雨聲','花落知多少。'] \n",
        "s2='，'.join(list1) #以逗號，連接字串 \n",
        "print(s2)\n"
      ],
      "execution_count": 8,
      "outputs": [
        {
          "output_type": "stream",
          "text": [
            "24\n",
            "['春眠不覺曉', '處處聞啼⿃', '夜來風雨聲', '花落知多少。']\n",
            "春眠不覺曉，處處聞啼⿃，夜來風雨聲，花落知多少。\n"
          ],
          "name": "stdout"
        }
      ]
    },
    {
      "cell_type": "code",
      "metadata": {
        "id": "aVrx7qgL4wWP",
        "colab_type": "code",
        "colab": {
          "base_uri": "https://localhost:8080/",
          "height": 151
        },
        "outputId": "24d02b2c-3d93-4026-a16e-32ed496080c6"
      },
      "source": [
        "s1='春眠不覺曉，處處聞啼⿃，夜來風雨聲，花落知多少。' \n",
        "s3=s1.replace('春','冬') #以冬替代春（冬眠不覺曉） \n",
        "print(s3)\n",
        "\n",
        "s1='春眠不覺曉，處處聞啼⿃，夜來風雨聲，花落知多少。' \n",
        "\n",
        "print(s1.find('花落')) #尋找 \n",
        "print(s1.count('處')) #計次\n",
        " \n",
        "s1=\"An apple a day.\"\n",
        "print(s1.capitalize()) \n",
        "print(s1.title()) \n",
        "print(s1.swapcase()) \n",
        "print(s1.upper())\n",
        "print(s1.lower())\n"
      ],
      "execution_count": 11,
      "outputs": [
        {
          "output_type": "stream",
          "text": [
            "冬眠不覺曉，處處聞啼⿃，夜來風雨聲，花落知多少。\n",
            "18\n",
            "2\n",
            "An apple a day.\n",
            "An Apple A Day.\n",
            "aN APPLE A DAY.\n",
            "AN APPLE A DAY.\n",
            "an apple a day.\n"
          ],
          "name": "stdout"
        }
      ]
    },
    {
      "cell_type": "code",
      "metadata": {
        "id": "co4Mb6tW5SeV",
        "colab_type": "code",
        "colab": {
          "base_uri": "https://localhost:8080/",
          "height": 168
        },
        "outputId": "ef162aeb-3f65-4bd5-d271-5427f723888d"
      },
      "source": [
        "#其他參考\n",
        "\n",
        "s1='春眠不覺曉，處處聞啼⿃，夜來風雨聲，花落知多少。' \n",
        "print(s1.startswith('春眠')) \n",
        "print(s1.endswith('多少。'))\n",
        "\n",
        "s1='春眠不覺曉' \n",
        "print(s1.center(10)) \n",
        "print(s1.rjust(10)) \n",
        "print(s1.ljust(10)) \n",
        "\n",
        "s1='123' \n",
        "print(s1.zfill(5)) \n",
        "\n",
        "s1='Hello,Mary.' \n",
        "print(s1.strip()) \n",
        "print(s1.lstrip(' H')) \n",
        "print(s1.rstrip(' .'))\n"
      ],
      "execution_count": 12,
      "outputs": [
        {
          "output_type": "stream",
          "text": [
            "True\n",
            "True\n",
            "  春眠不覺曉   \n",
            "     春眠不覺曉\n",
            "春眠不覺曉     \n",
            "00123\n",
            "Hello,Mary.\n",
            "ello,Mary.\n",
            "Hello,Mary\n"
          ],
          "name": "stdout"
        }
      ]
    }
  ]
}