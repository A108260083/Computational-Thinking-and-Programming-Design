{
  "nbformat": 4,
  "nbformat_minor": 0,
  "metadata": {
    "colab": {
      "name": "week9-num = int(input('請輸入⼀個整數？')) if num % 2 == 1: #餘數為1是奇數  print(num, '為奇數') else:  print(num, '為偶數')A108260083-鍾佳穎.ipynb",
      "provenance": [],
      "collapsed_sections": [],
      "include_colab_link": true
    },
    "kernelspec": {
      "name": "python3",
      "display_name": "Python 3"
    }
  },
  "cells": [
    {
      "cell_type": "markdown",
      "metadata": {
        "id": "view-in-github",
        "colab_type": "text"
      },
      "source": [
        "<a href=\"https://colab.research.google.com/github/zpxcov/Computational-Thinking-and-Programming-Design/blob/master/week9-A108260083_%E9%8D%BE%E4%BD%B3%E7%A9%8E.ipynb\" target=\"_parent\"><img src=\"https://colab.research.google.com/assets/colab-badge.svg\" alt=\"Open In Colab\"/></a>"
      ]
    },
    {
      "cell_type": "code",
      "metadata": {
        "id": "4ngXrdEkh65q",
        "colab_type": "code",
        "colab": {
          "base_uri": "https://localhost:8080/",
          "height": 51
        },
        "outputId": "71661575-72f8-436b-8710-5f1fae1f4d4f"
      },
      "source": [
        "score=int(input('請輸入⼀個成績？'))\n",
        "if score>= 60:\n",
        "    print('很好，請繼續保持下去')"
      ],
      "execution_count": 5,
      "outputs": [
        {
          "output_type": "stream",
          "text": [
            "請輸入⼀個成績？88\n",
            "很好，請繼續保持下去\n"
          ],
          "name": "stdout"
        }
      ]
    },
    {
      "cell_type": "code",
      "metadata": {
        "id": "v9XFlvp6iOKA",
        "colab_type": "code",
        "colab": {
          "base_uri": "https://localhost:8080/",
          "height": 51
        },
        "outputId": "5c4147a5-ab51-4f39-ab73-731e8e54d0b7"
      },
      "source": [
        "score = int(input('請輸入⼀個成績？'))\n",
        "if score >= 60:\n",
        "     print('有及格ㄡ～')\n",
        "else:\n",
        "     print('不及格ㄟ！')"
      ],
      "execution_count": 4,
      "outputs": [
        {
          "output_type": "stream",
          "text": [
            "請輸入⼀個成績？50\n",
            "不及格ㄟ！\n"
          ],
          "name": "stdout"
        }
      ]
    },
    {
      "cell_type": "code",
      "metadata": {
        "id": "NQmmJTrciUrk",
        "colab_type": "code",
        "colab": {
          "base_uri": "https://localhost:8080/",
          "height": 51
        },
        "outputId": "e0532031-3f6b-4fee-93f2-459a9bb69b48"
      },
      "source": [
        "score = int(input('請輸入⼀個成績？'))\n",
        "if score >= 80:\n",
        "   print('非常好')\n",
        "elif score >= 60:\n",
        "     print('不錯喔')\n",
        "else:\n",
        "     print('要加油')"
      ],
      "execution_count": 6,
      "outputs": [
        {
          "output_type": "stream",
          "text": [
            "請輸入⼀個成績？66\n",
            "不錯喔\n"
          ],
          "name": "stdout"
        }
      ]
    },
    {
      "cell_type": "code",
      "metadata": {
        "id": "WKdSzWs_mBQQ",
        "colab_type": "code",
        "colab": {
          "base_uri": "https://localhost:8080/",
          "height": 68
        },
        "outputId": "a8dba364-b68b-4c31-a225-a7199b4e6759"
      },
      "source": [
        "x = float(input('請輸入該點的X座標？')) \n",
        "y = float(input('請輸入該點的Y座標？'))\n",
        "if (x > 0):\n",
        "  if (y > 0):\n",
        "    print('該點在第⼀象限') \n",
        "  else:\n",
        "    print('該點在第四象限') \n",
        "else:\n",
        "  if (y > 0):\n",
        "   print('該點在第⼆象限') \n",
        "  else:\n",
        "   print('該點在第三象限') "
      ],
      "execution_count": 8,
      "outputs": [
        {
          "output_type": "stream",
          "text": [
            "請輸入該點的X座標？1\n",
            "請輸入該點的Y座標？1\n",
            "該點在第⼀象限\n"
          ],
          "name": "stdout"
        }
      ]
    },
    {
      "cell_type": "code",
      "metadata": {
        "id": "spGjjicLmuwt",
        "colab_type": "code",
        "colab": {
          "base_uri": "https://localhost:8080/",
          "height": 51
        },
        "outputId": "6ca5cb1e-872a-44fb-b0fd-7c638569a564"
      },
      "source": [
        "cost = int(input('請輸入購買⾦額？'))\n",
        "if cost >= 2000:\n",
        "   print(cost * 0.9)\n",
        "else:\n",
        "   print(cost)"
      ],
      "execution_count": 9,
      "outputs": [
        {
          "output_type": "stream",
          "text": [
            "請輸入購買⾦額？2000\n",
            "1800.0\n"
          ],
          "name": "stdout"
        }
      ]
    },
    {
      "cell_type": "code",
      "metadata": {
        "id": "uXHx0w1xm3-B",
        "colab_type": "code",
        "colab": {
          "base_uri": "https://localhost:8080/",
          "height": 51
        },
        "outputId": "e0bfb364-297c-4819-d688-5c65d5d4f216"
      },
      "source": [
        "num = int(input('請輸入⼀個整數？'))\n",
        "if num % 2 == 0: \n",
        "   print(num, '為偶數')\n",
        "else:\n",
        "    print(num, '為奇數')"
      ],
      "execution_count": 10,
      "outputs": [
        {
          "output_type": "stream",
          "text": [
            "請輸入⼀個整數？13\n",
            "13 為奇數\n"
          ],
          "name": "stdout"
        }
      ]
    },
    {
      "cell_type": "code",
      "metadata": {
        "id": "py5bTQ2dnVkT",
        "colab_type": "code",
        "colab": {
          "base_uri": "https://localhost:8080/",
          "height": 51
        },
        "outputId": "f552fe68-fd2d-4e97-d6f2-6a9d722139d2"
      },
      "source": [
        "num = int(input('請輸入⼀個整數？'))\n",
        "if num % 2 == 1: \n",
        "    print(num, '為奇數')\n",
        "else:\n",
        "    print(num, '為偶數')"
      ],
      "execution_count": 11,
      "outputs": [
        {
          "output_type": "stream",
          "text": [
            "請輸入⼀個整數？13\n",
            "13 為奇數\n"
          ],
          "name": "stdout"
        }
      ]
    }
  ]
}